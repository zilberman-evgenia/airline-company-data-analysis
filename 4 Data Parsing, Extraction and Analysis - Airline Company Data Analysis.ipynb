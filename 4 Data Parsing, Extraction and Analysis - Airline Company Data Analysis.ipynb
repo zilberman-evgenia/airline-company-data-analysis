{
 "cells": [
  {
   "cell_type": "markdown",
   "metadata": {},
   "source": [
    "<h1 style=\"color:green; margin-bottom:15px;font-size:27px\">Data Parsing, Extraction and Analysis - Airline Company Data Analysis</h1>"
   ]
  },
  {
   "cell_type": "markdown",
   "metadata": {},
   "source": [
    "# Project Description\n",
    "\n",
    "You are an analyst at F9, a Russian airline that is operating hundreds of flights every day. You have to study the database and analyze the demand of passengers for flights to cities where the largest festivals take place. The dataset contains 2 queries from the previous tasks."
   ]
  },
  {
   "cell_type": "markdown",
   "metadata": {},
   "source": [
    "# Содержание\n",
    "\n",
    "<ol>\n",
    "<li>Libraries Import</li>\n",
    "<li>Data Import and Preprocessing</li>\n",
    "<li>Data Description</li>\n",
    "<li>Data Analysis</li>\n",
    "<li>Conclusions</li>\n",
    "</ol>"
   ]
  },
  {
   "cell_type": "markdown",
   "metadata": {},
   "source": [
    "# 1. Libraries Import"
   ]
  },
  {
   "cell_type": "code",
   "execution_count": 1,
   "metadata": {},
   "outputs": [],
   "source": [
    "import pandas as pd\n",
    "import math\n",
    "import numpy as np\n",
    "from scipy import stats as st\n",
    "import warnings\n",
    "warnings.filterwarnings('ignore')\n",
    "import matplotlib.pyplot as plt\n",
    "import seaborn as sns"
   ]
  },
  {
   "cell_type": "markdown",
   "metadata": {},
   "source": [
    "# 2. Data Import and Preprocessing"
   ]
  },
  {
   "cell_type": "code",
   "execution_count": 2,
   "metadata": {},
   "outputs": [
    {
     "data": {
      "text/html": [
       "<div>\n",
       "<style scoped>\n",
       "    .dataframe tbody tr th:only-of-type {\n",
       "        vertical-align: middle;\n",
       "    }\n",
       "\n",
       "    .dataframe tbody tr th {\n",
       "        vertical-align: top;\n",
       "    }\n",
       "\n",
       "    .dataframe thead th {\n",
       "        text-align: right;\n",
       "    }\n",
       "</style>\n",
       "<table border=\"1\" class=\"dataframe\">\n",
       "  <thead>\n",
       "    <tr style=\"text-align: right;\">\n",
       "      <th></th>\n",
       "      <th>model</th>\n",
       "      <th>flights_amount</th>\n",
       "    </tr>\n",
       "  </thead>\n",
       "  <tbody>\n",
       "    <tr>\n",
       "      <th>0</th>\n",
       "      <td>Airbus A319-100</td>\n",
       "      <td>607</td>\n",
       "    </tr>\n",
       "    <tr>\n",
       "      <th>1</th>\n",
       "      <td>Airbus A321-200</td>\n",
       "      <td>960</td>\n",
       "    </tr>\n",
       "    <tr>\n",
       "      <th>2</th>\n",
       "      <td>Boeing 737-300</td>\n",
       "      <td>630</td>\n",
       "    </tr>\n",
       "    <tr>\n",
       "      <th>3</th>\n",
       "      <td>Boeing 767-300</td>\n",
       "      <td>600</td>\n",
       "    </tr>\n",
       "    <tr>\n",
       "      <th>4</th>\n",
       "      <td>Boeing 777-300</td>\n",
       "      <td>300</td>\n",
       "    </tr>\n",
       "    <tr>\n",
       "      <th>5</th>\n",
       "      <td>Bombardier CRJ-200</td>\n",
       "      <td>4446</td>\n",
       "    </tr>\n",
       "    <tr>\n",
       "      <th>6</th>\n",
       "      <td>Cessna 208 Caravan</td>\n",
       "      <td>4557</td>\n",
       "    </tr>\n",
       "    <tr>\n",
       "      <th>7</th>\n",
       "      <td>Sukhoi SuperJet-100</td>\n",
       "      <td>4185</td>\n",
       "    </tr>\n",
       "  </tbody>\n",
       "</table>\n",
       "</div>"
      ],
      "text/plain": [
       "                 model  flights_amount\n",
       "0      Airbus A319-100             607\n",
       "1      Airbus A321-200             960\n",
       "2       Boeing 737-300             630\n",
       "3       Boeing 767-300             600\n",
       "4       Boeing 777-300             300\n",
       "5   Bombardier CRJ-200            4446\n",
       "6   Cessna 208 Caravan            4557\n",
       "7  Sukhoi SuperJet-100            4185"
      ]
     },
     "metadata": {},
     "output_type": "display_data"
    },
    {
     "name": "stdout",
     "output_type": "stream",
     "text": [
      "<class 'pandas.core.frame.DataFrame'>\n",
      "RangeIndex: 8 entries, 0 to 7\n",
      "Data columns (total 2 columns):\n",
      " #   Column          Non-Null Count  Dtype \n",
      "---  ------          --------------  ----- \n",
      " 0   model           8 non-null      object\n",
      " 1   flights_amount  8 non-null      int64 \n",
      "dtypes: int64(1), object(1)\n",
      "memory usage: 256.0+ bytes\n"
     ]
    },
    {
     "data": {
      "text/plain": [
       "None"
      ]
     },
     "metadata": {},
     "output_type": "display_data"
    },
    {
     "data": {
      "text/html": [
       "<div>\n",
       "<style scoped>\n",
       "    .dataframe tbody tr th:only-of-type {\n",
       "        vertical-align: middle;\n",
       "    }\n",
       "\n",
       "    .dataframe tbody tr th {\n",
       "        vertical-align: top;\n",
       "    }\n",
       "\n",
       "    .dataframe thead th {\n",
       "        text-align: right;\n",
       "    }\n",
       "</style>\n",
       "<table border=\"1\" class=\"dataframe\">\n",
       "  <thead>\n",
       "    <tr style=\"text-align: right;\">\n",
       "      <th></th>\n",
       "      <th>count</th>\n",
       "      <th>mean</th>\n",
       "      <th>std</th>\n",
       "      <th>min</th>\n",
       "      <th>25%</th>\n",
       "      <th>50%</th>\n",
       "      <th>75%</th>\n",
       "      <th>max</th>\n",
       "    </tr>\n",
       "  </thead>\n",
       "  <tbody>\n",
       "    <tr>\n",
       "      <th>flights_amount</th>\n",
       "      <td>8.0</td>\n",
       "      <td>2035.625</td>\n",
       "      <td>1965.203947</td>\n",
       "      <td>300.0</td>\n",
       "      <td>605.25</td>\n",
       "      <td>795.0</td>\n",
       "      <td>4250.25</td>\n",
       "      <td>4557.0</td>\n",
       "    </tr>\n",
       "  </tbody>\n",
       "</table>\n",
       "</div>"
      ],
      "text/plain": [
       "                count      mean          std    min     25%    50%      75%  \\\n",
       "flights_amount    8.0  2035.625  1965.203947  300.0  605.25  795.0  4250.25   \n",
       "\n",
       "                   max  \n",
       "flights_amount  4557.0  "
      ]
     },
     "execution_count": 2,
     "metadata": {},
     "output_type": "execute_result"
    }
   ],
   "source": [
    "models=pd.read_csv('query_1.csv')\n",
    "\n",
    "display(models)\n",
    "display(models.info())\n",
    "models.describe().T"
   ]
  },
  {
   "cell_type": "code",
   "execution_count": 3,
   "metadata": {},
   "outputs": [
    {
     "data": {
      "text/html": [
       "<div>\n",
       "<style scoped>\n",
       "    .dataframe tbody tr th:only-of-type {\n",
       "        vertical-align: middle;\n",
       "    }\n",
       "\n",
       "    .dataframe tbody tr th {\n",
       "        vertical-align: top;\n",
       "    }\n",
       "\n",
       "    .dataframe thead th {\n",
       "        text-align: right;\n",
       "    }\n",
       "</style>\n",
       "<table border=\"1\" class=\"dataframe\">\n",
       "  <thead>\n",
       "    <tr style=\"text-align: right;\">\n",
       "      <th></th>\n",
       "      <th>city</th>\n",
       "      <th>average_flights</th>\n",
       "    </tr>\n",
       "  </thead>\n",
       "  <tbody>\n",
       "    <tr>\n",
       "      <th>0</th>\n",
       "      <td>Абакан</td>\n",
       "      <td>3.870968</td>\n",
       "    </tr>\n",
       "    <tr>\n",
       "      <th>1</th>\n",
       "      <td>Анадырь</td>\n",
       "      <td>1.000000</td>\n",
       "    </tr>\n",
       "    <tr>\n",
       "      <th>2</th>\n",
       "      <td>Анапа</td>\n",
       "      <td>2.161290</td>\n",
       "    </tr>\n",
       "    <tr>\n",
       "      <th>3</th>\n",
       "      <td>Архангельск</td>\n",
       "      <td>5.354839</td>\n",
       "    </tr>\n",
       "    <tr>\n",
       "      <th>4</th>\n",
       "      <td>Астрахань</td>\n",
       "      <td>2.451613</td>\n",
       "    </tr>\n",
       "  </tbody>\n",
       "</table>\n",
       "</div>"
      ],
      "text/plain": [
       "          city  average_flights\n",
       "0       Абакан         3.870968\n",
       "1      Анадырь         1.000000\n",
       "2        Анапа         2.161290\n",
       "3  Архангельск         5.354839\n",
       "4    Астрахань         2.451613"
      ]
     },
     "metadata": {},
     "output_type": "display_data"
    },
    {
     "name": "stdout",
     "output_type": "stream",
     "text": [
      "<class 'pandas.core.frame.DataFrame'>\n",
      "RangeIndex: 101 entries, 0 to 100\n",
      "Data columns (total 2 columns):\n",
      " #   Column           Non-Null Count  Dtype  \n",
      "---  ------           --------------  -----  \n",
      " 0   city             101 non-null    object \n",
      " 1   average_flights  101 non-null    float64\n",
      "dtypes: float64(1), object(1)\n",
      "memory usage: 1.7+ KB\n"
     ]
    },
    {
     "data": {
      "text/plain": [
       "None"
      ]
     },
     "metadata": {},
     "output_type": "display_data"
    },
    {
     "data": {
      "text/html": [
       "<div>\n",
       "<style scoped>\n",
       "    .dataframe tbody tr th:only-of-type {\n",
       "        vertical-align: middle;\n",
       "    }\n",
       "\n",
       "    .dataframe tbody tr th {\n",
       "        vertical-align: top;\n",
       "    }\n",
       "\n",
       "    .dataframe thead th {\n",
       "        text-align: right;\n",
       "    }\n",
       "</style>\n",
       "<table border=\"1\" class=\"dataframe\">\n",
       "  <thead>\n",
       "    <tr style=\"text-align: right;\">\n",
       "      <th></th>\n",
       "      <th>count</th>\n",
       "      <th>mean</th>\n",
       "      <th>std</th>\n",
       "      <th>min</th>\n",
       "      <th>25%</th>\n",
       "      <th>50%</th>\n",
       "      <th>75%</th>\n",
       "      <th>max</th>\n",
       "    </tr>\n",
       "  </thead>\n",
       "  <tbody>\n",
       "    <tr>\n",
       "      <th>average_flights</th>\n",
       "      <td>101.0</td>\n",
       "      <td>5.494189</td>\n",
       "      <td>13.11979</td>\n",
       "      <td>1.0</td>\n",
       "      <td>2.0</td>\n",
       "      <td>3.0</td>\n",
       "      <td>5.870968</td>\n",
       "      <td>129.774194</td>\n",
       "    </tr>\n",
       "  </tbody>\n",
       "</table>\n",
       "</div>"
      ],
      "text/plain": [
       "                 count      mean       std  min  25%  50%       75%  \\\n",
       "average_flights  101.0  5.494189  13.11979  1.0  2.0  3.0  5.870968   \n",
       "\n",
       "                        max  \n",
       "average_flights  129.774194  "
      ]
     },
     "execution_count": 3,
     "metadata": {},
     "output_type": "execute_result"
    }
   ],
   "source": [
    "flights=pd.read_csv('query_3.csv')\n",
    "\n",
    "display(flights.head(5))\n",
    "display(flights.info())\n",
    "flights.describe().T"
   ]
  },
  {
   "cell_type": "code",
   "execution_count": 4,
   "metadata": {},
   "outputs": [
    {
     "data": {
      "text/html": [
       "<div>\n",
       "<style scoped>\n",
       "    .dataframe tbody tr th:only-of-type {\n",
       "        vertical-align: middle;\n",
       "    }\n",
       "\n",
       "    .dataframe tbody tr th {\n",
       "        vertical-align: top;\n",
       "    }\n",
       "\n",
       "    .dataframe thead th {\n",
       "        text-align: right;\n",
       "    }\n",
       "</style>\n",
       "<table border=\"1\" class=\"dataframe\">\n",
       "  <thead>\n",
       "    <tr style=\"text-align: right;\">\n",
       "      <th></th>\n",
       "      <th>city</th>\n",
       "      <th>average_flights</th>\n",
       "    </tr>\n",
       "  </thead>\n",
       "  <tbody>\n",
       "    <tr>\n",
       "      <th>0</th>\n",
       "      <td>Абакан</td>\n",
       "      <td>3.87</td>\n",
       "    </tr>\n",
       "    <tr>\n",
       "      <th>1</th>\n",
       "      <td>Анадырь</td>\n",
       "      <td>1.00</td>\n",
       "    </tr>\n",
       "    <tr>\n",
       "      <th>2</th>\n",
       "      <td>Анапа</td>\n",
       "      <td>2.16</td>\n",
       "    </tr>\n",
       "    <tr>\n",
       "      <th>3</th>\n",
       "      <td>Архангельск</td>\n",
       "      <td>5.35</td>\n",
       "    </tr>\n",
       "    <tr>\n",
       "      <th>4</th>\n",
       "      <td>Астрахань</td>\n",
       "      <td>2.45</td>\n",
       "    </tr>\n",
       "  </tbody>\n",
       "</table>\n",
       "</div>"
      ],
      "text/plain": [
       "          city  average_flights\n",
       "0       Абакан             3.87\n",
       "1      Анадырь             1.00\n",
       "2        Анапа             2.16\n",
       "3  Архангельск             5.35\n",
       "4    Астрахань             2.45"
      ]
     },
     "metadata": {},
     "output_type": "display_data"
    }
   ],
   "source": [
    "flights['average_flights']=round(flights['average_flights'],2)\n",
    "display(flights.head(5))"
   ]
  },
  {
   "cell_type": "code",
   "execution_count": 5,
   "metadata": {},
   "outputs": [
    {
     "name": "stdout",
     "output_type": "stream",
     "text": [
      "Empty DataFrame\n",
      "Columns: [city, average_flights]\n",
      "Index: []\n"
     ]
    }
   ],
   "source": [
    "duplicates = flights[flights['city'].duplicated()]\n",
    "print(duplicates)"
   ]
  },
  {
   "cell_type": "code",
   "execution_count": 6,
   "metadata": {},
   "outputs": [
    {
     "data": {
      "text/plain": [
       "array([[<AxesSubplot:title={'center':'average_flights'}>]], dtype=object)"
      ]
     },
     "execution_count": 6,
     "metadata": {},
     "output_type": "execute_result"
    },
    {
     "data": {
      "image/png": "[encoded data removed]",
      "text/plain": [
       "<Figure size 432x288 with 1 Axes>"
      ]
     },
     "metadata": {
      "needs_background": "light"
     },
     "output_type": "display_data"
    }
   ],
   "source": [
    "flights.hist('average_flights', bins=100, range=(0, 130))"
   ]
  },
  {
   "cell_type": "code",
   "execution_count": 7,
   "metadata": {},
   "outputs": [
    {
     "data": {
      "text/plain": [
       "city               0\n",
       "average_flights    0\n",
       "dtype: int64"
      ]
     },
     "execution_count": 7,
     "metadata": {},
     "output_type": "execute_result"
    }
   ],
   "source": [
    "flights.loc[flights['average_flights'] == 0].count()"
   ]
  },
  {
   "cell_type": "markdown",
   "metadata": {},
   "source": [
    "# 3. Data Description\n",
    "\n",
    "*/datasets/query_1.csv* has 8 rows and 2 variables:\n",
    "<li>model — aircraft model, object type;</li>\n",
    "<li>flights_amount — number of flights for each aircraft model in September 2018, type int64.</li>\n",
    "\n",
    "Does not contain gaps, garbage and duplicates. The data types are correct.\n",
    "\n",
    "*/datasets/query_3.csv* has 101 lines and 2 variables:\n",
    "<li>city — city, type object;</li>\n",
    "<li>average_flights is the average number of flights arriving in Moscow per day in August 2018, type float64.</li>\n",
    "\n",
    "Does not contain gaps, garbage and duplicates. The data types are correct. <br>\n",
    "The values of average_flights are rounded to 2 decimal places.<br>"
   ]
  },
  {
   "cell_type": "markdown",
   "metadata": {},
   "source": [
    "# 4. Data Analysis"
   ]
  },
  {
   "cell_type": "markdown",
   "metadata": {},
   "source": [
    "# 4.1 Top Airplane Models in September 2018"
   ]
  },
  {
   "cell_type": "code",
   "execution_count": 8,
   "metadata": {},
   "outputs": [
    {
     "data": {
      "text/html": [
       "<div>\n",
       "<style scoped>\n",
       "    .dataframe tbody tr th:only-of-type {\n",
       "        vertical-align: middle;\n",
       "    }\n",
       "\n",
       "    .dataframe tbody tr th {\n",
       "        vertical-align: top;\n",
       "    }\n",
       "\n",
       "    .dataframe thead th {\n",
       "        text-align: right;\n",
       "    }\n",
       "</style>\n",
       "<table border=\"1\" class=\"dataframe\">\n",
       "  <thead>\n",
       "    <tr style=\"text-align: right;\">\n",
       "      <th></th>\n",
       "      <th>model</th>\n",
       "      <th>flights_amount</th>\n",
       "    </tr>\n",
       "  </thead>\n",
       "  <tbody>\n",
       "    <tr>\n",
       "      <th>6</th>\n",
       "      <td>Cessna 208 Caravan</td>\n",
       "      <td>4557</td>\n",
       "    </tr>\n",
       "    <tr>\n",
       "      <th>5</th>\n",
       "      <td>Bombardier CRJ-200</td>\n",
       "      <td>4446</td>\n",
       "    </tr>\n",
       "    <tr>\n",
       "      <th>7</th>\n",
       "      <td>Sukhoi SuperJet-100</td>\n",
       "      <td>4185</td>\n",
       "    </tr>\n",
       "    <tr>\n",
       "      <th>1</th>\n",
       "      <td>Airbus A321-200</td>\n",
       "      <td>960</td>\n",
       "    </tr>\n",
       "    <tr>\n",
       "      <th>2</th>\n",
       "      <td>Boeing 737-300</td>\n",
       "      <td>630</td>\n",
       "    </tr>\n",
       "    <tr>\n",
       "      <th>0</th>\n",
       "      <td>Airbus A319-100</td>\n",
       "      <td>607</td>\n",
       "    </tr>\n",
       "    <tr>\n",
       "      <th>3</th>\n",
       "      <td>Boeing 767-300</td>\n",
       "      <td>600</td>\n",
       "    </tr>\n",
       "    <tr>\n",
       "      <th>4</th>\n",
       "      <td>Boeing 777-300</td>\n",
       "      <td>300</td>\n",
       "    </tr>\n",
       "  </tbody>\n",
       "</table>\n",
       "</div>"
      ],
      "text/plain": [
       "                 model  flights_amount\n",
       "6   Cessna 208 Caravan            4557\n",
       "5   Bombardier CRJ-200            4446\n",
       "7  Sukhoi SuperJet-100            4185\n",
       "1      Airbus A321-200             960\n",
       "2       Boeing 737-300             630\n",
       "0      Airbus A319-100             607\n",
       "3       Boeing 767-300             600\n",
       "4       Boeing 777-300             300"
      ]
     },
     "metadata": {},
     "output_type": "display_data"
    }
   ],
   "source": [
    "display(models.sort_values(by = 'flights_amount', ascending=False).head(10))"
   ]
  },
  {
   "cell_type": "code",
   "execution_count": 9,
   "metadata": {},
   "outputs": [
    {
     "data": {
      "image/png": "[encoded data removed]",
      "text/plain": [
       "<Figure size 1296x720 with 1 Axes>"
      ]
     },
     "metadata": {
      "needs_background": "light"
     },
     "output_type": "display_data"
    }
   ],
   "source": [
    "objects = models['model']\n",
    "y_pos = np.arange(len(models))\n",
    "performance = models['flights_amount']\n",
    "\n",
    "plt.figure(figsize=(18, 10))\n",
    "plt.bar(y_pos, performance, align='center', alpha=0.5)\n",
    "plt.xticks(y_pos, objects)\n",
    "plt.xlabel('Airplane models',fontsize=14)\n",
    "plt.ylabel('Number of flights',fontsize=14)\n",
    "plt.title('Number of flights per model in September 2018',fontsize=16)\n",
    "plt.grid()\n",
    "plt.show()"
   ]
  },
  {
   "cell_type": "markdown",
   "metadata": {},
   "source": [
    "# Average Number of Flights per City per Day in August 2018"
   ]
  },
  {
   "cell_type": "code",
   "execution_count": 10,
   "metadata": {},
   "outputs": [
    {
     "data": {
      "image/png": "[encoded data removed]",
      "text/plain": [
       "<Figure size 1008x1440 with 1 Axes>"
      ]
     },
     "metadata": {
      "needs_background": "light"
     },
     "output_type": "display_data"
    }
   ],
   "source": [
    "flights = flights.sort_values('average_flights', ascending=True)\n",
    "\n",
    "objects = flights['city']\n",
    "y_pos = np.arange(len(flights))\n",
    "performance = flights['average_flights']\n",
    "\n",
    "plt.figure(figsize=(14, 20))\n",
    "plt.barh(y_pos, performance, alpha=0.5)\n",
    "plt.yticks(y_pos, objects)\n",
    "plt.xlabel('Average number of flights per day',fontsize=14)\n",
    "plt.title('Average number of flights per city per day in August 2018',fontsize=14)\n",
    "plt.grid()\n",
    "plt.show()"
   ]
  },
  {
   "cell_type": "markdown",
   "metadata": {},
   "source": [
    "# Average Number of Flights per Day per City in August 2018"
   ]
  },
  {
   "cell_type": "code",
   "execution_count": 11,
   "metadata": {},
   "outputs": [
    {
     "data": {
      "text/html": [
       "<div>\n",
       "<style scoped>\n",
       "    .dataframe tbody tr th:only-of-type {\n",
       "        vertical-align: middle;\n",
       "    }\n",
       "\n",
       "    .dataframe tbody tr th {\n",
       "        vertical-align: top;\n",
       "    }\n",
       "\n",
       "    .dataframe thead th {\n",
       "        text-align: right;\n",
       "    }\n",
       "</style>\n",
       "<table border=\"1\" class=\"dataframe\">\n",
       "  <thead>\n",
       "    <tr style=\"text-align: right;\">\n",
       "      <th></th>\n",
       "      <th>city</th>\n",
       "      <th>average_flights</th>\n",
       "    </tr>\n",
       "  </thead>\n",
       "  <tbody>\n",
       "    <tr>\n",
       "      <th>43</th>\n",
       "      <td>Москва</td>\n",
       "      <td>129.77</td>\n",
       "    </tr>\n",
       "    <tr>\n",
       "      <th>70</th>\n",
       "      <td>Санкт-Петербург</td>\n",
       "      <td>31.16</td>\n",
       "    </tr>\n",
       "    <tr>\n",
       "      <th>54</th>\n",
       "      <td>Новосибирск</td>\n",
       "      <td>17.32</td>\n",
       "    </tr>\n",
       "    <tr>\n",
       "      <th>33</th>\n",
       "      <td>Красноярск</td>\n",
       "      <td>11.58</td>\n",
       "    </tr>\n",
       "    <tr>\n",
       "      <th>20</th>\n",
       "      <td>Екатеринбург</td>\n",
       "      <td>11.32</td>\n",
       "    </tr>\n",
       "    <tr>\n",
       "      <th>67</th>\n",
       "      <td>Ростов-на-Дону</td>\n",
       "      <td>10.19</td>\n",
       "    </tr>\n",
       "    <tr>\n",
       "      <th>63</th>\n",
       "      <td>Пермь</td>\n",
       "      <td>10.13</td>\n",
       "    </tr>\n",
       "    <tr>\n",
       "      <th>10</th>\n",
       "      <td>Брянск</td>\n",
       "      <td>10.00</td>\n",
       "    </tr>\n",
       "    <tr>\n",
       "      <th>74</th>\n",
       "      <td>Сочи</td>\n",
       "      <td>9.61</td>\n",
       "    </tr>\n",
       "    <tr>\n",
       "      <th>84</th>\n",
       "      <td>Ульяновск</td>\n",
       "      <td>9.58</td>\n",
       "    </tr>\n",
       "  </tbody>\n",
       "</table>\n",
       "</div>"
      ],
      "text/plain": [
       "               city  average_flights\n",
       "43           Москва           129.77\n",
       "70  Санкт-Петербург            31.16\n",
       "54      Новосибирск            17.32\n",
       "33       Красноярск            11.58\n",
       "20     Екатеринбург            11.32\n",
       "67   Ростов-на-Дону            10.19\n",
       "63            Пермь            10.13\n",
       "10           Брянск            10.00\n",
       "74             Сочи             9.61\n",
       "84        Ульяновск             9.58"
      ]
     },
     "metadata": {},
     "output_type": "display_data"
    }
   ],
   "source": [
    "flights10 = flights.sort_values(by = 'average_flights', ascending=False).head(10)\n",
    "display(flights10)"
   ]
  },
  {
   "cell_type": "code",
   "execution_count": 12,
   "metadata": {},
   "outputs": [
    {
     "data": {
      "image/png": "[encoded data removed]",
      "text/plain": [
       "<Figure size 1224x504 with 1 Axes>"
      ]
     },
     "metadata": {
      "needs_background": "light"
     },
     "output_type": "display_data"
    }
   ],
   "source": [
    "flights10 = flights10.sort_values('average_flights', ascending=True)\n",
    "\n",
    "objects = flights10['city']\n",
    "y_pos = np.arange(len(objects))\n",
    "performance = flights10['average_flights']\n",
    "\n",
    "plt.figure(figsize=(17, 7))\n",
    "plt.bar(y_pos, performance, alpha=0.5)\n",
    "plt.xticks(y_pos, objects)\n",
    "plt.ylabel('Average number of flights per day',fontsize=14)\n",
    "plt.xlabel('City',fontsize=14)\n",
    "plt.title('Average number of flights per day per city in August 2018',fontsize=14)\n",
    "plt.grid()\n",
    "plt.show()"
   ]
  },
  {
   "cell_type": "markdown",
   "metadata": {},
   "source": [
    "# Conclusions"
   ]
  },
  {
   "cell_type": "markdown",
   "metadata": {},
   "source": [
    "**1. Flights per Airplane Models**"
   ]
  },
  {
   "cell_type": "markdown",
   "metadata": {},
   "source": [
    "The most popular aircraft models in September 2018 are **Cessna 208 Caravan** (4557 flights), **Bombardier CRJ-200** (4446 flights), **Sukhoi SuperJet-100** (4185 flights). Other models account for 300 to 960 flights per month."
   ]
  },
  {
   "cell_type": "markdown",
   "metadata": {},
   "source": [
    "<table class=\"dataframe\" style=\"width: 444px; border-style: solid; border-color: black;\" border=\"1\">\n",
    "<thead>\n",
    "<tr>\n",
    "<th style=\"width: 183.531px; text-align: left;\">Airplane Models</th>\n",
    "<th style=\"width: 244.469px; text-align: left;\">Flights per Month</th>\n",
    "</tr>\n",
    "</thead>\n",
    "<tbody>\n",
    "<tr> \n",
    "<td style=\"width: 183.531px; text-align: left;\">Cessna 208 Caravan</td>\n",
    "<td style=\"width: 244.469px; text-align: left;\">4557</td>\n",
    "</tr>\n",
    "<tr>\n",
    "<td style=\"width: 183.531px; text-align: left;\">Bombardier CRJ-200</td>\n",
    "<td style=\"width: 244.469px; text-align: left;\">4446</td>\n",
    "</tr>\n",
    "<tr>\n",
    "<td style=\"width: 183.531px; text-align: left;\">Sukhoi SuperJet-100</td>\n",
    "<td style=\"width: 244.469px; text-align: left;\">4185</td>\n",
    "</tr>\n",
    "<tr>\n",
    "<td style=\"width: 183.531px; text-align: left;\">Airbus A321-200</td>\n",
    "<td style=\"width: 244.469px; text-align: left;\">960</td>\n",
    "</tr>\n",
    "<tr>\n",
    "<td style=\"width: 183.531px; text-align: left;\">Boeing 737-300</td>\n",
    "<td style=\"width: 244.469px; text-align: left;\">630</td>\n",
    "</tr>\n",
    "<tr>\n",
    "<td style=\"width: 183.531px; text-align: left;\">Airbus A319-100</td>\n",
    "<td style=\"width: 244.469px; text-align: left;\">607</td>\n",
    "</tr>\n",
    "<tr>\n",
    "<td style=\"width: 183.531px; text-align: left;\">Boeing 767-300</td>\n",
    "<td style=\"width: 244.469px; text-align: left;\">600</td>\n",
    "</tr>\n",
    "<tr>\n",
    "<td style=\"width: 183.531px; text-align: left;\">Boeing 777-300</td>\n",
    "<td style=\"width: 244.469px; text-align: left;\">300</td>\n",
    "</tr>\n",
    "</tbody>\n",
    "</table>"
   ]
  },
  {
   "cell_type": "markdown",
   "metadata": {},
   "source": [
    "**2. Flights per City**"
   ]
  },
  {
   "cell_type": "markdown",
   "metadata": {},
   "source": [
    "Since the query contains the average number of flights per day in August 2018 and only 101 cities, the chart for all cities is overloaded. The chart for the top 10 cities by average number of flights per day is more informative.\n",
    "Top 10 cities by average number of flights in August 2018:"
   ]
  },
  {
   "cell_type": "markdown",
   "metadata": {},
   "source": [
    "<table class=\"dataframe\" style=\"height: 234px; width: 496px; border-style: solid; border-color: black;\" border=\"1\">\n",
    "<thead>\n",
    "<tr style=\"height: 18px;\">\n",
    "<th style=\"width: 167.234px; height: 18px; text-align: left;\">City</th>\n",
    "<th style=\"width: 312.766px; height: 18px; text-align: left;\">Average Number of Flights per Day</th>\n",
    "</tr>\n",
    "</thead>\n",
    "<tbody>\n",
    "<tr style=\"height: 18px;\">\n",
    "<td style=\"width: 167.234px; height: 18px; text-align: left;\">Moscow</td>\n",
    "<td style=\"width: 312.766px; height: 18px; text-align: left;\">129.77</td>\n",
    "</tr>\n",
    "<tr style=\"height: 36px;\">\n",
    "<td style=\"width: 167.234px; height: 36px; text-align: left;\">St. Petersburg</td>\n",
    "<td style=\"width: 312.766px; height: 36px; text-align: left;\">31.16</td>\n",
    "</tr>\n",
    "<tr style=\"height: 18px;\">\n",
    "<td style=\"width: 167.234px; height: 18px; text-align: left;\">Novosibirsk</td>\n",
    "<td style=\"width: 312.766px; height: 18px; text-align: left;\">17.32</td>\n",
    "</tr>\n",
    "<tr style=\"height: 18px;\">\n",
    "<td style=\"width: 167.234px; height: 18px; text-align: left;\">Krasnoyarsk</td>\n",
    "<td style=\"width: 312.766px; height: 18px; text-align: left;\">11.58</td>\n",
    "</tr>\n",
    "<tr style=\"height: 18px;\">\n",
    "<td style=\"width: 167.234px; height: 18px; text-align: left;\">Екатеринбург</td>\n",
    "<td style=\"width: 312.766px; height: 18px; text-align: left;\">11.32</td>\n",
    "</tr>\n",
    "<tr style=\"height: 36px;\">\n",
    "<td style=\"width: 167.234px; height: 36px; text-align: left;\">Rostov-on-Don</td>\n",
    "<td style=\"width: 312.766px; height: 36px; text-align: left;\">10.19</td>\n",
    "</tr>\n",
    "<tr style=\"height: 18px;\">\n",
    "<td style=\"width: 167.234px; height: 18px; text-align: left;\">Perm</td>\n",
    "<td style=\"width: 312.766px; height: 18px; text-align: left;\">10.13</td>\n",
    "</tr>\n",
    "<tr style=\"height: 18px;\">\n",
    "<td style=\"width: 167.234px; height: 18px; text-align: left;\">Bryansk</td>\n",
    "<td style=\"width: 312.766px; height: 18px; text-align: left;\">10.00</td>\n",
    "</tr>\n",
    "<tr style=\"height: 18px;\">\n",
    "<td style=\"width: 167.234px; height: 18px; text-align: left;\">Sochi</td>\n",
    "<td style=\"width: 312.766px; height: 18px; text-align: left;\">9.61</td>\n",
    "</tr>\n",
    "<tr style=\"height: 18px;\">\n",
    "<td style=\"width: 167.234px; height: 18px; text-align: left;\">Ulyanovsk</td>\n",
    "<td style=\"width: 312.766px; height: 18px; text-align: left;\">9.58</td>\n",
    "</tr>\n",
    "</tbody>\n",
    "</table>"
   ]
  },
  {
   "cell_type": "markdown",
   "metadata": {},
   "source": [
    "In top 5 - 4 largest (by number) cities of Russia (Moscow, St. Petersburg, Novosibirsk, Yekaterinburg).\n",
    "\n",
    "The absolute leader in terms of the number of flights is **Moscow** (an average of 128 flights per day in August 2018. Followed by **St. Petersburg** (31.16 flights) and **Novosibirsk** (17.32 flights). Other cities have an average of 9 to 12 flights per day.\n",
    "\n",
    "Top-10 most popular cities in August include 3 resorts: Krasnoyarsk, Rostov-on-Don (located on the way to Crimea) and Sochi.\n",
    "\n",
    "Perm, Ulyanovsk and Bryansk are not among 10 largest cities in Russia and are not resorts, it is difficult for me to explain why they appear in this rating. It can be assumed that the airline offered the best prices for tickets on the market for these destinations."
   ]
  },
  {
   "cell_type": "code",
   "execution_count": null,
   "metadata": {},
   "outputs": [],
   "source": []
  }
 ],
 "metadata": {
  "ExecuteTimeLog": [
   {
    "duration": 3336,
    "start_time": "2021-10-01T15:56:06.426Z"
   },
   {
    "duration": 386,
    "start_time": "2021-10-01T15:56:11.653Z"
   },
   {
    "duration": 63,
    "start_time": "2021-10-01T15:56:28.733Z"
   },
   {
    "duration": 66,
    "start_time": "2021-10-01T15:56:40.510Z"
   },
   {
    "duration": 59,
    "start_time": "2021-10-01T16:04:37.124Z"
   },
   {
    "duration": 10,
    "start_time": "2021-10-01T16:08:08.104Z"
   },
   {
    "duration": 7,
    "start_time": "2021-10-01T16:08:46.989Z"
   },
   {
    "duration": 1795,
    "start_time": "2021-10-01T16:10:38.947Z"
   },
   {
    "duration": 1914,
    "start_time": "2021-10-01T16:11:57.659Z"
   },
   {
    "duration": 2194,
    "start_time": "2021-10-01T16:12:32.685Z"
   },
   {
    "duration": 2206,
    "start_time": "2021-10-01T16:13:03.648Z"
   },
   {
    "duration": 2425,
    "start_time": "2021-10-01T16:13:41.782Z"
   },
   {
    "duration": 2723,
    "start_time": "2021-10-01T16:14:06.653Z"
   },
   {
    "duration": 1893,
    "start_time": "2021-10-01T16:14:31.487Z"
   },
   {
    "duration": 332,
    "start_time": "2021-10-01T16:16:01.982Z"
   },
   {
    "duration": 1762,
    "start_time": "2021-10-01T16:16:13.480Z"
   },
   {
    "duration": 791,
    "start_time": "2021-10-01T16:16:55.074Z"
   },
   {
    "duration": 52,
    "start_time": "2021-10-01T16:17:18.477Z"
   },
   {
    "duration": 948,
    "start_time": "2021-10-01T16:17:24.589Z"
   },
   {
    "duration": 536,
    "start_time": "2021-10-01T16:17:29.935Z"
   },
   {
    "duration": 14,
    "start_time": "2021-10-01T16:22:02.859Z"
   },
   {
    "duration": 9,
    "start_time": "2021-10-01T16:22:21.383Z"
   },
   {
    "duration": 237,
    "start_time": "2021-10-01T16:27:57.583Z"
   },
   {
    "duration": 9,
    "start_time": "2021-10-01T16:28:07.595Z"
   },
   {
    "duration": 16,
    "start_time": "2021-10-01T16:28:25.250Z"
   },
   {
    "duration": 12,
    "start_time": "2021-10-01T16:30:15.697Z"
   },
   {
    "duration": 12,
    "start_time": "2021-10-01T16:30:19.634Z"
   },
   {
    "duration": 312,
    "start_time": "2021-10-01T16:33:35.617Z"
   },
   {
    "duration": 382,
    "start_time": "2021-10-01T16:34:09.446Z"
   },
   {
    "duration": 293,
    "start_time": "2021-10-01T16:37:19.945Z"
   },
   {
    "duration": 586,
    "start_time": "2021-10-01T16:37:42.282Z"
   },
   {
    "duration": 592,
    "start_time": "2021-10-01T16:38:36.651Z"
   },
   {
    "duration": 604,
    "start_time": "2021-10-01T16:39:12.457Z"
   },
   {
    "duration": 679,
    "start_time": "2021-10-01T16:39:56.057Z"
   },
   {
    "duration": 629,
    "start_time": "2021-10-01T16:40:03.304Z"
   },
   {
    "duration": 715,
    "start_time": "2021-10-01T16:40:10.304Z"
   },
   {
    "duration": 432,
    "start_time": "2021-10-01T16:41:06.569Z"
   },
   {
    "duration": 98,
    "start_time": "2021-10-01T16:42:04.923Z"
   },
   {
    "duration": 407,
    "start_time": "2021-10-01T16:42:18.980Z"
   },
   {
    "duration": 2366,
    "start_time": "2021-10-01T16:43:59.012Z"
   },
   {
    "duration": 2590,
    "start_time": "2021-10-01T16:44:03.202Z"
   },
   {
    "duration": 2317,
    "start_time": "2021-10-01T16:44:24.627Z"
   },
   {
    "duration": 12,
    "start_time": "2021-10-01T16:45:10.765Z"
   },
   {
    "duration": 404,
    "start_time": "2021-10-01T16:45:25.088Z"
   },
   {
    "duration": 515,
    "start_time": "2021-10-01T16:45:50.125Z"
   },
   {
    "duration": 508,
    "start_time": "2021-10-01T16:46:08.681Z"
   },
   {
    "duration": 509,
    "start_time": "2021-10-01T16:46:20.681Z"
   },
   {
    "duration": 2394,
    "start_time": "2021-10-01T16:47:09.496Z"
   },
   {
    "duration": 522,
    "start_time": "2021-10-01T16:47:20.782Z"
   },
   {
    "duration": 2178,
    "start_time": "2021-10-01T16:47:36.344Z"
   },
   {
    "duration": 2333,
    "start_time": "2021-10-01T16:47:50.349Z"
   },
   {
    "duration": 403,
    "start_time": "2021-10-01T16:48:28.386Z"
   },
   {
    "duration": 2184,
    "start_time": "2021-10-01T16:48:49.797Z"
   },
   {
    "duration": 11,
    "start_time": "2021-10-01T16:53:13.489Z"
   },
   {
    "duration": 12,
    "start_time": "2021-10-01T16:55:47.112Z"
   },
   {
    "duration": 10,
    "start_time": "2021-10-01T16:57:55.874Z"
   },
   {
    "duration": 12,
    "start_time": "2021-10-01T16:58:59.580Z"
   },
   {
    "duration": 1164,
    "start_time": "2021-10-01T17:38:21.195Z"
   },
   {
    "duration": 49,
    "start_time": "2021-10-01T17:38:22.361Z"
   },
   {
    "duration": 36,
    "start_time": "2021-10-01T17:38:22.414Z"
   },
   {
    "duration": 10,
    "start_time": "2021-10-01T17:38:22.453Z"
   },
   {
    "duration": 5,
    "start_time": "2021-10-01T17:38:22.467Z"
   },
   {
    "duration": 356,
    "start_time": "2021-10-01T17:38:22.474Z"
   },
   {
    "duration": 6,
    "start_time": "2021-10-01T17:38:22.833Z"
   },
   {
    "duration": 19,
    "start_time": "2021-10-01T17:38:22.850Z"
   },
   {
    "duration": 291,
    "start_time": "2021-10-01T17:38:22.871Z"
   },
   {
    "duration": 1680,
    "start_time": "2021-10-01T17:38:23.164Z"
   },
   {
    "duration": 12,
    "start_time": "2021-10-01T17:38:24.846Z"
   },
   {
    "duration": 409,
    "start_time": "2021-10-01T17:38:24.861Z"
   },
   {
    "duration": 385,
    "start_time": "2021-10-01T18:47:06.066Z"
   },
   {
    "duration": 1333,
    "start_time": "2021-10-01T18:47:14.538Z"
   },
   {
    "duration": 48,
    "start_time": "2021-10-01T18:47:15.873Z"
   },
   {
    "duration": 38,
    "start_time": "2021-10-01T18:47:15.924Z"
   },
   {
    "duration": 19,
    "start_time": "2021-10-01T18:47:15.964Z"
   },
   {
    "duration": 6,
    "start_time": "2021-10-01T18:47:15.993Z"
   },
   {
    "duration": 392,
    "start_time": "2021-10-01T18:47:16.001Z"
   },
   {
    "duration": 7,
    "start_time": "2021-10-01T18:47:16.395Z"
   },
   {
    "duration": 11,
    "start_time": "2021-10-01T18:47:16.405Z"
   },
   {
    "duration": 311,
    "start_time": "2021-10-01T18:47:16.418Z"
   },
   {
    "duration": 198,
    "start_time": "2021-10-01T18:47:16.731Z"
   },
   {
    "duration": 1465,
    "start_time": "2021-10-01T18:47:16.931Z"
   },
   {
    "duration": 9,
    "start_time": "2021-10-01T18:47:18.398Z"
   },
   {
    "duration": 439,
    "start_time": "2021-10-01T18:47:18.409Z"
   },
   {
    "duration": 505,
    "start_time": "2021-10-01T18:49:28.990Z"
   },
   {
    "duration": 358,
    "start_time": "2021-10-01T18:50:07.123Z"
   },
   {
    "duration": 1130,
    "start_time": "2021-10-01T18:50:41.711Z"
   },
   {
    "duration": 746,
    "start_time": "2021-10-01T18:52:58.418Z"
   },
   {
    "duration": 756,
    "start_time": "2021-10-01T18:53:10.743Z"
   },
   {
    "duration": 344,
    "start_time": "2021-10-01T18:56:10.324Z"
   },
   {
    "duration": 755,
    "start_time": "2021-10-01T18:56:18.058Z"
   },
   {
    "duration": 1063,
    "start_time": "2021-10-01T18:56:30.751Z"
   },
   {
    "duration": 2672,
    "start_time": "2021-10-01T19:00:52.781Z"
   },
   {
    "duration": 895,
    "start_time": "2021-10-01T19:01:36.382Z"
   },
   {
    "duration": 1305,
    "start_time": "2021-10-01T19:02:07.210Z"
   },
   {
    "duration": 43,
    "start_time": "2021-10-01T19:02:08.518Z"
   },
   {
    "duration": 42,
    "start_time": "2021-10-01T19:02:08.563Z"
   },
   {
    "duration": 9,
    "start_time": "2021-10-01T19:02:08.607Z"
   },
   {
    "duration": 10,
    "start_time": "2021-10-01T19:02:08.618Z"
   },
   {
    "duration": 406,
    "start_time": "2021-10-01T19:02:08.630Z"
   },
   {
    "duration": 7,
    "start_time": "2021-10-01T19:02:09.039Z"
   },
   {
    "duration": 30,
    "start_time": "2021-10-01T19:02:09.049Z"
   },
   {
    "duration": 358,
    "start_time": "2021-10-01T19:02:09.082Z"
   },
   {
    "duration": 280,
    "start_time": "2021-10-01T19:02:09.442Z"
   },
   {
    "duration": 1547,
    "start_time": "2021-10-01T19:02:09.724Z"
   },
   {
    "duration": 9,
    "start_time": "2021-10-01T19:02:11.276Z"
   },
   {
    "duration": 1686,
    "start_time": "2021-10-01T19:02:11.287Z"
   },
   {
    "duration": 1804,
    "start_time": "2021-10-01T19:04:04.472Z"
   },
   {
    "duration": 1754,
    "start_time": "2021-10-01T19:04:53.352Z"
   },
   {
    "duration": 803,
    "start_time": "2021-10-01T19:06:26.087Z"
   },
   {
    "duration": 1955,
    "start_time": "2021-10-01T19:06:39.883Z"
   },
   {
    "duration": 355,
    "start_time": "2021-10-01T19:07:48.558Z"
   },
   {
    "duration": 350,
    "start_time": "2021-10-01T19:07:55.832Z"
   },
   {
    "duration": 4562,
    "start_time": "2021-10-01T19:08:02.693Z"
   },
   {
    "duration": 4617,
    "start_time": "2021-10-01T19:08:10.722Z"
   },
   {
    "duration": 408,
    "start_time": "2021-10-01T19:08:25.572Z"
   },
   {
    "duration": 390,
    "start_time": "2021-10-01T19:08:32.984Z"
   },
   {
    "duration": 406,
    "start_time": "2021-10-01T19:09:22.269Z"
   },
   {
    "duration": 366,
    "start_time": "2021-10-01T19:10:00.372Z"
   },
   {
    "duration": 1274,
    "start_time": "2021-10-01T19:10:07.791Z"
   },
   {
    "duration": 52,
    "start_time": "2021-10-01T19:10:09.067Z"
   },
   {
    "duration": 61,
    "start_time": "2021-10-01T19:10:09.123Z"
   },
   {
    "duration": 10,
    "start_time": "2021-10-01T19:10:09.187Z"
   },
   {
    "duration": 6,
    "start_time": "2021-10-01T19:10:09.204Z"
   },
   {
    "duration": 525,
    "start_time": "2021-10-01T19:10:09.213Z"
   },
   {
    "duration": 8,
    "start_time": "2021-10-01T19:10:09.740Z"
   },
   {
    "duration": 9,
    "start_time": "2021-10-01T19:10:09.750Z"
   },
   {
    "duration": 363,
    "start_time": "2021-10-01T19:10:09.776Z"
   },
   {
    "duration": 228,
    "start_time": "2021-10-01T19:10:10.141Z"
   },
   {
    "duration": 1952,
    "start_time": "2021-10-01T19:10:10.371Z"
   },
   {
    "duration": 11,
    "start_time": "2021-10-01T19:10:12.325Z"
   },
   {
    "duration": 972,
    "start_time": "2021-10-01T19:10:12.339Z"
   },
   {
    "duration": 1819,
    "start_time": "2021-10-01T19:10:24.909Z"
   },
   {
    "duration": 1022,
    "start_time": "2021-10-01T19:11:11.718Z"
   },
   {
    "duration": 402,
    "start_time": "2021-10-01T19:13:49.188Z"
   },
   {
    "duration": 327,
    "start_time": "2021-10-01T19:13:57.570Z"
   },
   {
    "duration": 363,
    "start_time": "2021-10-01T19:14:20.634Z"
   },
   {
    "duration": 1401,
    "start_time": "2021-10-01T19:15:51.650Z"
   },
   {
    "duration": 61,
    "start_time": "2021-10-01T19:15:53.053Z"
   },
   {
    "duration": 77,
    "start_time": "2021-10-01T19:15:53.117Z"
   },
   {
    "duration": 11,
    "start_time": "2021-10-01T19:15:53.197Z"
   },
   {
    "duration": 7,
    "start_time": "2021-10-01T19:15:53.211Z"
   },
   {
    "duration": 397,
    "start_time": "2021-10-01T19:15:53.220Z"
   },
   {
    "duration": 7,
    "start_time": "2021-10-01T19:15:53.619Z"
   },
   {
    "duration": 16,
    "start_time": "2021-10-01T19:15:53.630Z"
   },
   {
    "duration": 405,
    "start_time": "2021-10-01T19:15:53.649Z"
   },
   {
    "duration": 2459,
    "start_time": "2021-10-01T19:15:54.056Z"
   },
   {
    "duration": 12,
    "start_time": "2021-10-01T19:15:56.517Z"
   },
   {
    "duration": 1285,
    "start_time": "2021-10-01T19:15:56.532Z"
   },
   {
    "duration": 471,
    "start_time": "2021-10-01T19:16:31.385Z"
   },
   {
    "duration": 851,
    "start_time": "2021-10-01T19:17:11.173Z"
   },
   {
    "duration": 485,
    "start_time": "2021-10-01T19:19:21.219Z"
   },
   {
    "duration": 500,
    "start_time": "2021-10-01T19:19:37.885Z"
   },
   {
    "duration": 584,
    "start_time": "2021-10-01T19:19:52.338Z"
   },
   {
    "duration": 612,
    "start_time": "2021-10-01T19:20:17.352Z"
   },
   {
    "duration": 660,
    "start_time": "2021-10-01T19:20:21.978Z"
   },
   {
    "duration": 175,
    "start_time": "2021-10-01T19:20:36.484Z"
   },
   {
    "duration": 304,
    "start_time": "2021-10-01T19:20:41.231Z"
   },
   {
    "duration": 342,
    "start_time": "2021-10-01T19:20:52.354Z"
   },
   {
    "duration": 335,
    "start_time": "2021-10-01T19:20:58.254Z"
   },
   {
    "duration": 531,
    "start_time": "2021-10-01T19:21:05.952Z"
   },
   {
    "duration": 345,
    "start_time": "2021-10-01T19:21:21.063Z"
   },
   {
    "duration": 323,
    "start_time": "2021-10-01T19:21:27.787Z"
   },
   {
    "duration": 569,
    "start_time": "2021-10-01T19:22:22.478Z"
   },
   {
    "duration": 1852,
    "start_time": "2021-10-01T19:22:33.155Z"
   },
   {
    "duration": 390,
    "start_time": "2021-10-01T19:22:46.996Z"
   }
  ],
  "kernelspec": {
   "display_name": "Python 3",
   "language": "python",
   "name": "python3"
  },
  "language_info": {
   "codemirror_mode": {
    "name": "ipython",
    "version": 3
   },
   "file_extension": ".py",
   "mimetype": "text/x-python",
   "name": "python",
   "nbconvert_exporter": "python",
   "pygments_lexer": "ipython3",
   "version": "3.8.8"
  },
  "toc": {
   "base_numbering": 1,
   "nav_menu": {},
   "number_sections": true,
   "sideBar": true,
   "skip_h1_title": true,
   "title_cell": "Table of Contents",
   "title_sidebar": "Contents",
   "toc_cell": false,
   "toc_position": {},
   "toc_section_display": true,
   "toc_window_display": false
  }
 },
 "nbformat": 4,
 "nbformat_minor": 2
}
